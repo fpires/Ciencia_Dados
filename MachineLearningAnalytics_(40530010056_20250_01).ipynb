{
  "cells": [
    {
      "cell_type": "markdown",
      "metadata": {
        "id": "view-in-github",
        "colab_type": "text"
      },
      "source": [
        "<a href=\"https://colab.research.google.com/github/fpires/Ciencia_Dados/blob/main/MachineLearningAnalytics_(40530010056_20250_01).ipynb\" target=\"_parent\"><img src=\"https://colab.research.google.com/assets/colab-badge.svg\" alt=\"Open In Colab\"/></a>"
      ]
    },
    {
      "cell_type": "markdown",
      "metadata": {
        "id": "cmYX3PLx58Jg"
      },
      "source": [
        "# MVP Análise de Dados - Machine Learning\n",
        "\n",
        "**Nome:** Flavio Louzada\n",
        "\n",
        "**Matrícula:** 4052025000941\n",
        "\n",
        "**Dataset:** [ObesityDataSet_raw_and_data_sinthetic.csv](https://www.kaggle.com/datasets/manvendrarajsingh/obesitydataset-raw-and-data-sinthetic)"
      ]
    },
    {
      "cell_type": "markdown",
      "metadata": {
        "id": "YW_JS-EEBFaR"
      },
      "source": [
        "# Descrição do Problema\n",
        "\n",
        " Dado um conjunto de características de um indivíduo (idade, altura, peso, hábitos alimentares, atividade física, etc.), queremos desenvolver um modelo que possa classificar com precisão esse indivíduo em uma das sete categorias predefinidas de nível de obesidade (ex: Insufficient_Weight, Normal_Weight, Overweight_Level_I, Obesity_Type_I, etc.) e entender quais características (hábitos, histórico, medidas) são as mais influentes na determinação do nível de obesidade de um indivíduo."
      ]
    },
    {
      "cell_type": "markdown",
      "metadata": {
        "id": "Gm6mOo5PBYwr"
      },
      "source": [
        "## Hipóteses do Problema\n",
        "\n",
        "As hipóteses que tracei são as seguintes:\n",
        "\n",
        "- Os diferentes Níveis de Obesidade podem ser distinguidos com base em características como Peso e IMC?\n",
        "\n",
        "- Existe uma correlação entre as principais medições corporais (altura, peso, IMC)\n",
        "\n",
        "- As pessoas com Consumo frequente de alimentos de alto teor calórico têm uma distribuição de idade diferente?"
      ]
    },
    {
      "cell_type": "markdown",
      "metadata": {
        "id": "x1zNNZt6BfdF"
      },
      "source": [
        "## Tipo de Problema\n",
        "\n",
        "Este é um problema de classificação supervisionada. O objetivo principal explorar a relação entre hábitos de vida, alimentação e o risco de obesidade em indivíduos."
      ]
    },
    {
      "cell_type": "markdown",
      "metadata": {
        "id": "FC6QJHhWBnzH"
      },
      "source": [
        "## Atributos do Dataset\n",
        "\n",
        "##### O dataset ObesityDataSet_raw_and_data_sinthetic.csv contém informações cruciais sobre hábitos alimentares, atividade física e características físicas de indivíduos, com o objetivo de prever seu nível de obesidade.\n",
        "\n",
        " **Variáveis de Identificação e Características Físicas:**\n",
        "##### **Gender**: Gênero do indivíduo (Male/Female).\n",
        "##### **Age**: Idade do indivíduo (em anos).\n",
        "##### **Height**: Altura do indivíduo (em metros).\n",
        "##### **Weight**: Peso do indivíduo (em quilogramas).\n",
        "##### **bmi**: **(Calculada)** Índice de Massa Corporal, derivado de weight / (height)^2. Uma métrica para avaliar o peso em relação à altura.\n",
        "\n",
        "##### **Variáveis de Hábitos Alimentares:**\n",
        "##### **family_history_with_overweight**: Indica se há histórico familiar de sobrepeso (Yes/No).\n",
        "##### **FAVC**: Consumo frequente de alimentos de alto teor calórico (Yes/No).\n",
        "##### **FCVC**: Frequência do consumo de vegetais nas refeições (Numérico: 1, 2 ou 3 - Não, Às Vezes, Frequentemente).\n",
        "##### **NCP**: Número de refeições principais por dia (Numérico: 1, 2, 3 ou 4+).\n",
        "##### **CAEC**: Consumo de alimentos entre as refeições (Categorical: Always, Frequently, Sometimes, No).\n",
        "##### **CH2O**: Consumo diário de água (Numérico: 1, 2 ou 3 - Menos de 1L, 1-2L, Mais de 2L). (Nota: no dataset original, pode ser interpretado como frequência, mas o valor numérico indica volume ou frequência crescente).\n",
        "##### **CALC**: Consumo de álcool (Categorical: Always, Frequently, Sometimes, No).\n",
        "##### **SCC**: Monitoramento do consumo de calorias (Yes/No).\n",
        "\n",
        "##### **Variáveis de Atividade Física e Estilo de Vida:**\n",
        "##### **FAF**: Frequência de atividade física (Numérico: 0, 1, 2 ou 3 - Sem atividade, 1-2 dias/semana, 2-4 dias/semana, 4-5 dias/semana).\n",
        "##### **TUE**: Tempo de uso de dispositivos tecnológicos (e.g., celular, TV, computador) (Numérico: 0, 1 ou 2 - 0-2 horas, 3-5 horas, Mais de 5 horas).\n",
        "##### **SMOKE**: Indica se o indivíduo fuma (Yes/No).\n",
        "##### **MTRANS**: Principal meio de transporte utilizado (Categorical: Automobile, Motorbike, Public_Transportation, Walking, Bike).\n",
        "\n",
        "##### **Variável Alvo (Target):**\n",
        "##### **NObeyesdad**: Nível de obesidade do indivíduo (Categorical: Normal_Weight, Overweight_Level_I, Overweight_Level_II, Obesity_Type_I, Obesity_Type_II, Obesity_Type_III, Insufficient_Weight).\n",
        "##### **Esta é a variável que o modelo irá prever.**"
      ]
    },
    {
      "cell_type": "markdown",
      "metadata": {
        "id": "DObGnkf0bJBh"
      },
      "source": [
        "# Importação das Bibliotecas Necessárias e Carga de Dados\n",
        "\n",
        "Esta seção consolida todas as importações de bibliotecas necessárias para a análise, visualização e pré-processamento dos dados, bem como o carregamento inicial do dataset Iris."
      ]
    },
    {
      "cell_type": "code",
      "execution_count": null,
      "metadata": {
        "id": "tCohWn2jbkDB"
      },
      "outputs": [],
      "source": [
        "# !pip install pandas scikit-learn matplotlib seaborn numpy\n",
        "\n",
        "import pandas as pd\n",
        "import numpy as np\n",
        "import matplotlib.pyplot as plt\n",
        "import seaborn as sns\n",
        "from sklearn.model_selection import train_test_split, KFold, cross_val_score\n",
        "from sklearn.preprocessing import StandardScaler, OneHotEncoder, LabelEncoder\n",
        "from sklearn.compose import ColumnTransformer\n",
        "# from sklearn.pipeline import Pipeline\n",
        "# from sklearn.cluster import KMeans\n",
        "from sklearn.linear_model import LogisticRegression, LinearRegression\n",
        "from sklearn.tree import DecisionTreeClassifier\n",
        "from sklearn.metrics import accuracy_score, classification_report, confusion_matrix, mean_absolute_error, r2_score\n",
        "from sklearn.ensemble import RandomForestClassifier\n",
        "# from sklearn.decomposition import PCA\n",
        "\n",
        "# Configurações para melhor visualização dos gráficos\n",
        "sns.set_style(\"whitegrid\")\n",
        "plt.rcParams['figure.figsize'] = (10, 6)\n",
        "plt.rcParams['figure.dpi'] = 100\n"
      ]
    },
    {
      "cell_type": "code",
      "execution_count": null,
      "metadata": {
        "id": "BIokzI3xb8_t"
      },
      "outputs": [],
      "source": [
        "# carregamento dos datasets\n",
        "try:\n",
        "    df = pd.read_csv('https://raw.githubusercontent.com/fpires/Ciencia_Dados/main/ObesityDataSet_raw_and_data_sinthetic.csv', engine='python', decimal='.')\n",
        "    print(\"Dataset 'ObesityDataSet_raw_and_data_sinthetic.csv' carregado com sucesso!\")\n",
        "except FileNotFoundError:\n",
        "    print(\"ERRO: Arquivo 'ObesityDataSet_raw_and_data_sinthetic.csv' não encontrado.\")\n",
        "    # Crie um DataFrame vazio para evitar erros nas próximas células\n",
        "    df = pd.DataFrame()"
      ]
    },
    {
      "cell_type": "code",
      "execution_count": null,
      "metadata": {
        "id": "RCPbhofsE59F"
      },
      "outputs": [],
      "source": [
        " # Informações gerais do dataset\n",
        "df.info()"
      ]
    },
    {
      "cell_type": "code",
      "execution_count": null,
      "metadata": {
        "id": "b_h6IoCdqaxe"
      },
      "outputs": [],
      "source": [
        "# Primeiras 5 linhas do dataset\n",
        "df.head()"
      ]
    },
    {
      "cell_type": "code",
      "execution_count": null,
      "metadata": {
        "id": "lGQF8YQG-aS_"
      },
      "outputs": [],
      "source": [
        "df['family_history_with_overweight'].value_counts()"
      ]
    },
    {
      "cell_type": "markdown",
      "metadata": {
        "id": "XcHpQ9s_B4n1"
      },
      "source": [
        "# Análise de Dados\n",
        "\n",
        "Nesta etapa de Análise de Dados Exploratória (EDA) visamos entender a distribuição, as relações e as características das variáveis, o que é crucial para as etapas subsequentes de pré-processamento e modelagem."
      ]
    },
    {
      "cell_type": "markdown",
      "metadata": {
        "id": "5kuan1F5EA8J"
      },
      "source": [
        "## Total e Tipo das Instâncias\n",
        "\n",
        "O dataset possui 2111 instâncias (observações), com um total de 17 colunas definidas como float64 e object."
      ]
    },
    {
      "cell_type": "code",
      "execution_count": null,
      "metadata": {
        "id": "3asH5qmbHKVe"
      },
      "outputs": [],
      "source": [
        "df.info()\n"
      ]
    },
    {
      "cell_type": "code",
      "execution_count": null,
      "metadata": {
        "id": "hwLYs7lGHKVe"
      },
      "outputs": [],
      "source": [
        "# Realizar o agrupamento pela coluna 'NObeyesdad' e calcular a média de todas as colunas\n",
        "grouped_NObeyesdad = df.groupby('NObeyesdad').mean(numeric_only=True)\n",
        "\n"
      ]
    },
    {
      "cell_type": "code",
      "execution_count": null,
      "metadata": {
        "id": "IOKOBNPptaDj"
      },
      "outputs": [],
      "source": [
        "grouped_NObeyesdad"
      ]
    },
    {
      "cell_type": "code",
      "execution_count": null,
      "metadata": {
        "id": "jsV6GFtEuwft"
      },
      "outputs": [],
      "source": [
        "plt.figure(figsize=(10, 6)) # Define o tamanho da figura\n",
        "sns.barplot(x=grouped_NObeyesdad.index, y=grouped_NObeyesdad['Weight'], palette='viridis')\n",
        "plt.title('Média do Peso por Nível de Obesidade', fontsize=16)\n",
        "plt.xlabel('Nível de Obesidade', fontsize=14)\n",
        "plt.ylabel('Média do Peso (kg)', fontsize=14)\n",
        "plt.xticks(rotation=45, ha='right') # Rotaciona os rótulos do eixo X para melhor legibilidade\n",
        "plt.grid(axis='y', linestyle='--', alpha=0.7) # Adiciona um grid suave no eixo Y\n",
        "plt.tight_layout() # Ajusta o layout para evitar sobreposição\n",
        "plt.show()"
      ]
    },
    {
      "cell_type": "markdown",
      "metadata": {
        "id": "KneLMnzRvW6w"
      },
      "source": [
        "O gráfico visualmente demonstra as diferenças de peso entre as categorias de classificação de obesidade. Por exemplo, a média de peso para Obesity_Type_III é visivelmente maior que para Obesity_Type_I, e ambos são maiores que Normal_Weight."
      ]
    },
    {
      "cell_type": "code",
      "execution_count": null,
      "metadata": {
        "id": "iGy-VRfDt3vl"
      },
      "outputs": [],
      "source": [
        "# Agrupar por 'Gender'\n",
        "grouped_by_gender = df.groupby('Gender').mean(numeric_only=True)"
      ]
    },
    {
      "cell_type": "code",
      "execution_count": null,
      "metadata": {
        "id": "lzkECSxRt4_H"
      },
      "outputs": [],
      "source": [
        "grouped_by_gender"
      ]
    },
    {
      "cell_type": "code",
      "execution_count": null,
      "metadata": {
        "id": "rcJ3oJH2vFBk"
      },
      "outputs": [],
      "source": [
        "plt.figure(figsize=(10, 6)) # Define o tamanho da figura\n",
        "sns.barplot(x=grouped_by_gender.index, y=grouped_by_gender['Weight'], palette='viridis')\n",
        "plt.title('Média do Peso por Nível de Obesidade', fontsize=16)\n",
        "plt.xlabel('Nível de Obesidade', fontsize=14)\n",
        "plt.ylabel('Média do Peso (kg)', fontsize=14)\n",
        "plt.xticks(rotation=45, ha='right') # Rotaciona os rótulos do eixo X para melhor legibilidade\n",
        "plt.grid(axis='y', linestyle='--', alpha=0.7) # Adiciona um grid suave no eixo Y\n",
        "plt.tight_layout() # Ajusta o layout para evitar sobreposição\n",
        "plt.show()"
      ]
    },
    {
      "cell_type": "markdown",
      "metadata": {
        "id": "5VVAMJ3MHKVe"
      },
      "source": [
        " O gráfico mostra que, em média, os homens (Male) no dataset possuem um peso corporal maior do que as mulheres (Female). A barra para Male é visivelmente mais alta que a barra para Female."
      ]
    },
    {
      "cell_type": "markdown",
      "metadata": {
        "id": "M-bS4g_ECPoP"
      },
      "source": [
        "## Estatísticas Descritivas\n",
        "\n",
        "Estatísticas descritivas fornecem um resumo das características numéricas, incluindo média, desvio padrão, mínimo, máximo e quartis."
      ]
    },
    {
      "cell_type": "code",
      "execution_count": null,
      "metadata": {
        "id": "fTCOuOolC_rG"
      },
      "outputs": [],
      "source": [
        "# estatísticas descritivas básicas do dataset\n",
        "df.describe()"
      ]
    },
    {
      "cell_type": "markdown",
      "metadata": {
        "id": "sWPH7rj8Ck6v"
      },
      "source": [
        "### Média\n",
        "\n",
        "A média é uma medida de tendência central que representa o valor típico ou o ponto de equilíbrio de um conjunto de dados. É calculada somando-se todos os valores e dividindo-se pelo número total de observações. É sensível a valores extremos (outliers)."
      ]
    },
    {
      "cell_type": "code",
      "execution_count": null,
      "metadata": {
        "id": "vm3QIAb-CZbt"
      },
      "outputs": [],
      "source": [
        "# média dos atributos numéricos do dataset\n",
        "df_mean = df.describe().loc['mean']"
      ]
    },
    {
      "cell_type": "code",
      "source": [
        "df_mean"
      ],
      "metadata": {
        "id": "DJOA5PXda7VD"
      },
      "execution_count": null,
      "outputs": []
    },
    {
      "cell_type": "code",
      "execution_count": null,
      "metadata": {
        "id": "EPKpanMFCf0e"
      },
      "outputs": [],
      "source": [
        "sns.set_style(\"whitegrid\")\n",
        "plt.figure(figsize=(10, 6))\n",
        "df_mean.plot(kind='bar', color='lightcoral')\n",
        "plt.title('Média das Variáveis Numéricas do Dataset')\n",
        "plt.xlabel('Variável')\n",
        "plt.ylabel('Valor Médio')\n",
        "plt.xticks(rotation=45, ha='right')\n",
        "plt.tight_layout()\n",
        "plt.show()"
      ]
    },
    {
      "cell_type": "markdown",
      "metadata": {
        "id": "MHRKK0YmCmUw"
      },
      "source": [
        "### Desvio Padrão\n",
        "\n",
        "O desvio padrão é uma medida de dispersão que quantifica a quantidade de variação ou dispersão de um conjunto de valores. Um desvio padrão baixo indica que os pontos de dados tendem a estar próximos da média do conjunto, enquanto um desvio padrão alto indica que os pontos de dados estão espalhados por uma faixa maior de valores. Ele é a raiz quadrada da variância."
      ]
    },
    {
      "cell_type": "code",
      "execution_count": null,
      "metadata": {
        "id": "aBIXqi0fCwSH"
      },
      "outputs": [],
      "source": [
        "# desvio padrão dos atributos numéricos do dataset\n",
        "df.describe().loc['std']"
      ]
    },
    {
      "cell_type": "markdown",
      "metadata": {
        "id": "4tX_H2zZEFwU"
      },
      "source": [
        "## Histograma\n",
        "\n",
        "A distribuição de dados descreve como os valores de uma variável se espalham, ou seja, a frequência com que diferentes valores ocorrem. Entender a distribuição é crucial na análise de dados, pois revela padrões, tendências centrais, dispersão e a presença de valores atípicos (outliers). O histograma é uma ferramenta visual fundamental para representar essa distribuição, mostrando a forma dos dados, se são simétricos ou assimétricos, unimodais ou multimodais."
      ]
    },
    {
      "cell_type": "markdown",
      "metadata": {
        "id": "FSs4jBF7HUnV"
      },
      "source": [
        "### *Distribuição de Idade*\n",
        "\n"
      ]
    },
    {
      "cell_type": "code",
      "execution_count": null,
      "metadata": {
        "id": "MdBuOXxzHI5h"
      },
      "outputs": [],
      "source": [
        "plt.figure(figsize=(10, 6)) # Define o tamanho da figura do gráfico\n",
        "sns.histplot(data=df, x='Age', bins=20, kde=True, color='teal')\n",
        "plt.title('Distribuição da Idade', fontsize=16) # Título do gráfico\n",
        "plt.xlabel('Idade', fontsize=14) # Rótulo do eixo X\n",
        "plt.ylabel('Frequência', fontsize=14) # Rótulo do eixo Y\n",
        "plt.grid(axis='y', linestyle='--', alpha=0.7) # Adiciona um grid no eixo Y\n",
        "plt.tight_layout() # Ajusta o layout para evitar sobreposição\n",
        "plt.show()\n"
      ]
    },
    {
      "cell_type": "markdown",
      "metadata": {
        "id": "o7CSWH48HI5h"
      },
      "source": [
        "O gráfico revela que a maior parte dos indivíduos no dataset é composta por adultos jovens. Há um pico proeminente de frequência em torno dos 20-25 anos de idade."
      ]
    },
    {
      "cell_type": "code",
      "execution_count": null,
      "metadata": {
        "id": "vuYeIPgV4won"
      },
      "outputs": [],
      "source": [
        "plt.figure(figsize=(12, 7))\n",
        "# Usando 'cividis' ou 'plasma' que são perceptualmente uniformes\n",
        "sns.boxplot(x='FAVC', y='Age', data=df, order=df['FAVC'].value_counts().index, palette='cividis')\n",
        "plt.title('Consumo frequente de alimentos de alto teor calórico por idade.')\n",
        "plt.xlabel('Consumo frequente de alimentos de alto teor calórico.')\n",
        "plt.ylabel('Idade')\n",
        "plt.xticks(rotation=45)\n",
        "plt.show()"
      ]
    },
    {
      "cell_type": "markdown",
      "metadata": {
        "id": "LQH0NmCT4bVq"
      },
      "source": [
        " O gráfico boxplot ilustra a distribuição da idade para grupos que consomem ou não frequentemente alimentos de alto teor calórico, mostrando que a maioria dos indivíduos em ambos os grupos é jovem, embora existam outliers mais velhos."
      ]
    },
    {
      "cell_type": "markdown",
      "metadata": {
        "id": "mqwFIROrHHHJ"
      },
      "source": [
        "## Limpeza e Preparação dos Dados"
      ]
    },
    {
      "cell_type": "code",
      "execution_count": null,
      "metadata": {
        "id": "i6x3bN-C55GG"
      },
      "outputs": [],
      "source": [
        "if df.empty:\n",
        "    print(\"Dataset não carregado.\")\n",
        "else:\n",
        "    # 1. Padronização de nomes de colunas\n",
        "    df.columns = df.columns.str.strip().str.lower()\n",
        "    print(\"Nomes das colunas padronizados para minúsculas.\")\n",
        "\n",
        "    # 2. Verificação de valores ausentes (missing values) antes de qualquer transformação\n",
        "    print(\"\\nVerificando valores ausentes ANTES da limpeza detalhada:\")\n",
        "    print(df.isnull().sum())\n",
        "\n",
        "    # 3. Verificação de duplicatas\n",
        "    print(\"\\nVerificando linhas duplicadas:\")\n",
        "    print(f\"Número de linhas duplicadas antes: {df.duplicated().sum()}\")\n",
        "    df.drop_duplicates(inplace=True)\n",
        "    print(f\"Número de linhas duplicadas depois: {df.duplicated().sum()}\")\n",
        "\n",
        "    # 4. Tratamento de Tipos de Dados e Mapeamento\n",
        "    # 'gender' para consistência (Female/Male)\n",
        "    df['gender'] = df['gender'].replace({'Male': 'Male', 'Female': 'Female'}).str.capitalize()\n",
        "\n",
        "    # Mapeamento de colunas binárias para numéricos (0 ou 1)\n",
        "    binary_cols = ['family_history_with_overweight', 'favc', 'scc', 'smoke']\n",
        "    for col in binary_cols:\n",
        "        if col in df.columns:\n",
        "            # Converte para string e depois para minúsculas antes de mapear\n",
        "            # Usa .map(), e se algo não mapear, será NaN\n",
        "            df[col] = df[col].astype(str).str.lower().map({'yes': 1, 'no': 0})\n",
        "\n",
        "            # Se ainda houver NaN, preenche com 0 (que é um valor razoável para \"não ter\")\n",
        "            if df[col].isnull().any():\n",
        "                df[col].fillna(0, inplace=True) # Imputa NaN com 0 para colunas binárias\n",
        "                print(f\"NaNs na coluna '{col}' imputados com 0.\")\n",
        "\n",
        "            # Converte para int64 (não 'Int64' para evitar reintroduzir a capacidade de NaN)\n",
        "            df[col] = df[col].astype(int)\n",
        "            print(f\"Coluna '{col}' mapeada para 0/1 e convertida para int.\")\n",
        "        else:\n",
        "            print(f\"AVISO: Coluna binária '{col}' não encontrada no DataFrame.\")\n",
        "\n",
        "\n",
        "    # Mapeamento de variáveis ordinais para números (CH2O e CALC)\n",
        "    df['ch2o']\n",
        "    df['ch2o'] = df['ch2o'].astype(str).str.lower().replace({\n",
        "        'no': 1, 'sometimes': 2, 'frequently': 3, 'always': 4\n",
        "    })\n",
        "    df['ch2o'] = pd.to_numeric(df['ch2o'], errors='coerce')\n",
        "    # Imputa NaNs para ch2o\n",
        "    if df['ch2o'].isnull().any():\n",
        "        df['ch2o'].fillna(df['ch2o'].median(), inplace=True)\n",
        "        print(\"NaNs na coluna 'ch2o' imputados com a mediana.\")\n",
        "    print(\"Coluna 'ch2o' mapeada para numérico.\")\n",
        "\n",
        "\n",
        "    df['calc'] = df['calc'].astype(str).str.lower().replace({\n",
        "        'no': 1, 'sometimes': 2, 'frequently': 3, 'always': 4\n",
        "    })\n",
        "    df['calc'] = pd.to_numeric(df['calc'], errors='coerce')\n",
        "    # Imputa NaNs para calc se aparecerem\n",
        "    if df['calc'].isnull().any():\n",
        "        df['calc'].fillna(df['calc'].median(), inplace=True)\n",
        "        print(\"NaNs na coluna 'calc' imputados com a mediana.\")\n",
        "    print(\"Coluna 'calc' mapeada para numérico.\")\n",
        "\n",
        "\n",
        "    # Cálculo do IMC (BMI)\n",
        "    df['bmi'] = df['weight'] / (df['height']**2)\n",
        "    if df['bmi'].isnull().any(): # Caso haja divisão por zero, por exemplo\n",
        "        df['bmi'].fillna(df['bmi'].median(), inplace=True)\n",
        "        print(\"NaNs na coluna 'bmi' imputados com a mediana.\")\n",
        "\n",
        "    # 5. Verificação FINAL de NaNs após todas as operações\n",
        "    print(\"\\nVerificação final de NaNs (todos devem ser zero AGORA):\")\n",
        "    print(df.isnull().sum())\n",
        "    # Se ainda houver NaNs aqui, então há um problema em outra coluna.\n",
        "    print(\"\\nDataset após limpeza, preparação e imputação:\")\n",
        "\n"
      ]
    },
    {
      "cell_type": "markdown",
      "source": [
        "**Colunas Binárias**: family_history_with_overweight, favc, scc, smoke foram mapeadas de 'yes'/'no' para 1/0. Isso transforma respostas qualitativas em um formato quantitativo que os modelos entendem.\n",
        "\n",
        "**Colunas Ordinais**: calc e ch2o foram mapeadas de strings ordinais para numéricos. Isso preserva a ordem inerente entre as categorias (ex: 'sometimes' é mais que 'no', mas menos que 'frequently')."
      ],
      "metadata": {
        "id": "OB-Rwhv-Z_VB"
      }
    },
    {
      "cell_type": "code",
      "execution_count": null,
      "metadata": {
        "id": "0ihmcfbKNknx"
      },
      "outputs": [],
      "source": [
        "df.info()"
      ]
    },
    {
      "cell_type": "code",
      "source": [
        "df.head()"
      ],
      "metadata": {
        "id": "m2DFxoiKbrDe"
      },
      "execution_count": null,
      "outputs": []
    },
    {
      "cell_type": "markdown",
      "source": [
        "As colunas **family_history_with_overweight, favc, smoke, e scc** foram escolhidas para serem incluídas no dataset (e, em alguns casos, especificamente transformadas em 0/1) por serem variáveis binárias importantes que representam fatores de risco conhecidos ou potenciais para a obesidade.\n",
        "\n",
        "**family_history_with_overweight (Histórico familiar de sobrepeso):**\n",
        "\n",
        "A genética e o ambiente familiar desempenham um papel significativo no desenvolvimento da obesidade. Se uma pessoa tem pais ou irmãos com sobrepeso ou obesidade, ela tem uma probabilidade maior de desenvolver a condição. Isso pode ser devido a fatores genéticos herdados, mas também a hábitos alimentares e de estilo de vida compartilhados dentro da família. Representa: Uma predisposição genética e/ou ambiental de longo prazo.\n",
        "\n",
        "**favc (Frequent consumption of high caloric food - Consumo frequente de alimentos calóricos):**\n",
        "\n",
        "Este é um fator de estilo de vida direto e muito influente. O consumo regular de alimentos com alta densidade calórica (geralmente ricos em açúcar, gorduras e processados) é uma causa primária do ganho de peso e obesidade. Representa: Um hábito alimentar que contribui diretamente para o balanço energético positivo (mais calorias consumidas do que gastas).\n",
        "\n",
        "**smoke (Smoke - Fuma):**\n",
        "\n",
        "Embora a relação entre tabagismo e obesidade possa parecer contraintuitiva para alguns (já que o tabagismo pode suprimir o apetite ou aumentar o metabolismo em repouso em alguns casos), estudos mostram uma associação complexa. Pessoas que param de fumar frequentemente ganham peso. Além disso, o tabagismo pode estar associado a outros comportamentos de saúde menos saudáveis. A inclusão dessa variável permite que o modelo capture essa relação, seja ela direta ou indireta, ou mediada por outros fatores de estilo de vida. Representa: Um comportamento de saúde que pode impactar o peso, seja diretamente ou em associação com outros fatores.\n",
        "\n",
        "**scc (Calories consumption monitoring - Monitoramento do consumo de calorias):**\n",
        "\n",
        "Esta variável indica se o indivíduo monitora ativamente o que come e bebe. Pessoas que monitoram seu consumo de calorias (seja contando calorias, acompanhando por aplicativos, etc.) tendem a ter mais consciência de sua ingestão e, consequentemente, podem ter maior controle sobre seu peso. A falta de monitoramento pode levar a um consumo excessivo não intencional. Representa: Um comportamento de autoconsciência e controle dietético, que é um fator protetor ou de risco dependendo de sua presença ou ausência.\n",
        "\n",
        "Essas quatro colunas foram escolhidas (ou mantidas e transformadas em 0/1) porque representam fatores de risco e comportamentos de estilo de vida que são cientificamente reconhecidos por influenciar o peso corporal e o risco de obesidade. Ao convertê-las para 0 ou 1, elas se tornam facilmente interpretáveis pelos algoritmos de Machine Learning como a presença (1) ou ausência (0) de uma determinada característica ou comportamento, tornando-as features valiosas para prever o nível de obesidade."
      ],
      "metadata": {
        "id": "hzf1xvF4btCy"
      }
    },
    {
      "cell_type": "markdown",
      "source": [],
      "metadata": {
        "id": "4V-JUa17bfX2"
      }
    },
    {
      "cell_type": "markdown",
      "metadata": {
        "id": "3_ERHJAPEZAt"
      },
      "source": [
        "## Matriz de Correlação\n",
        "\n",
        "A matriz de correlação mede a força e a direção de uma relação linear que os atributos numéricos das espécies podem ter. Valores próximos a 1 indicam uma forte correlação positiva, -1 uma forte correlação negativa, e 0 ausência de correlação linear."
      ]
    },
    {
      "cell_type": "code",
      "execution_count": null,
      "metadata": {
        "id": "jAmPsbzDHF2t"
      },
      "outputs": [],
      "source": [
        "# # Matriz de correlação\n",
        "numeric_cols = df.select_dtypes(include=np.number).columns\n",
        "plt.figure(figsize=(14, 12))\n",
        "sns.heatmap(df[numeric_cols].corr(), annot=True, cmap='viridis', fmt=\".2f\", linewidths=.5)\n",
        "plt.title('Matriz de Correlação das Variáveis Numéricas 001')\n",
        "plt.show()"
      ]
    },
    {
      "cell_type": "markdown",
      "metadata": {
        "id": "oz1caOiQHF2u"
      },
      "source": [
        "O mapa de calor da matriz de correlação revela fortes correlações positivas entre weight e bmi (0.93): Como o IMC é calculado a partir do peso e da altura, é esperado que peso e IMC tenham uma correlação positiva muito forte.\n",
        "\n"
      ]
    },
    {
      "cell_type": "markdown",
      "metadata": {
        "id": "VDovmxgDFcbF"
      },
      "source": [
        "# Pré-Processamento de Dados\n",
        "\n",
        "O pré-processamento de dados é uma etapa crucial para preparar os dados para modelagem, garantindo que estejam no formato correto e otimizados para o desempenho do algoritmo."
      ]
    },
    {
      "cell_type": "code",
      "source": [
        "# One-Hot Encoding e Scaler\n",
        "\n",
        "# Separando features (X) e target (y)\n",
        "X = df.drop('nobeyesdad', axis=1) # Usando 'nobeyesdad' como target\n",
        "y = df['nobeyesdad'] # O target para classificação\n",
        "\n",
        "# Identificando colunas para pré-processamento\n",
        "categorical_cols_for_ohe = ['gender', 'caec', 'mtrans']\n",
        "numerical_cols = [\n",
        "    'age', 'height', 'weight', 'bmi',\n",
        "    'family_history_with_overweight', 'favc', 'fcvc', 'ncp',\n",
        "    'ch2o', 'calc', 'scc', 'smoke', 'faf', 'tue'\n",
        "]\n",
        "\n",
        "preprocessor = ColumnTransformer(\n",
        "    transformers=[\n",
        "        ('num', StandardScaler(), numerical_cols), # Padroniza colunas numéricas\n",
        "        ('cat', OneHotEncoder(handle_unknown='ignore', sparse_output=False), categorical_cols_for_ohe) # Aplica One-Hot Encoding e retorna array denso\n",
        "    ],\n",
        "    remainder='passthrough', # Colunas não especificadas são mantidas como estão (se houver alguma)\n",
        "    verbose_feature_names_out=False # Esta linha ajuda a ter nomes de colunas mais limpos\n",
        ")\n",
        "\n",
        "# Aplicando o pré-processamento aos dados\n",
        "X_transformed_array = preprocessor.fit_transform(X)\n",
        "\n",
        "# Obter os nomes das colunas numéricas (elas permanecem as mesmas após o StandardScaler)\n",
        "numeric_feature_names = numerical_cols\n",
        "\n",
        "# Obter os nomes das colunas categóricas transformadas pelo OneHotEncoder\n",
        "# preprocessor.named_transformers_['cat'] se refere ao OneHotEncoder\n",
        "categorical_feature_names = preprocessor.named_transformers_['cat'].get_feature_names_out(categorical_cols_for_ohe)\n",
        "\n",
        "# Combinar os nomes de todas as features transformadas\n",
        "# A ordem dos nomes das features no ColumnTransformer é primeiro as numéricas, depois as categóricas\n",
        "all_transformed_feature_names = list(numeric_feature_names) + list(categorical_feature_names)\n",
        "\n",
        "# Criar o novo DataFrame\n",
        "X_transformed_df = pd.DataFrame(X_transformed_array, columns=all_transformed_feature_names)\n",
        "\n",
        "# O LabelEncoder é usado para o target categórico (nível de obesidade)\n",
        "label_encoder = LabelEncoder()\n",
        "y_encoded = label_encoder.fit_transform(y)\n",
        "\n",
        "# --- Impressões para verificar o resultado ---\n",
        "print(\"--- Dados após One-Hot Encoding e StandardScaler ---\")\n",
        "print(f\"Dimensões do dataset transformado (array): {X_transformed_array.shape}\")\n",
        "print(f\"Dimensões do DataFrame transformado: {X_transformed_df.shape}\")\n",
        "print(\"\\nPrimeiras 5 linhas do DataFrame transformado:\")\n",
        "print(X_transformed_df.head()) # Agora você verá as novas colunas!\n",
        "print(\"\\nInformações sobre o DataFrame transformado (X_transformed_df.info()):\")\n",
        "\n",
        "print(f\"\\nMapeamento de classes do Nível de Obesidade: {list(label_encoder.classes_)}\")\n",
        "print(f\"Target codificado (primeiras 5 linhas): {y_encoded[:5]}\")\n"
      ],
      "metadata": {
        "id": "nVhwzTT7f5-W"
      },
      "execution_count": null,
      "outputs": []
    },
    {
      "cell_type": "code",
      "source": [
        "X_transformed_df.info()"
      ],
      "metadata": {
        "id": "dcqCf0cmogO2"
      },
      "execution_count": null,
      "outputs": []
    },
    {
      "cell_type": "code",
      "source": [
        "X_transformed_df.head()"
      ],
      "metadata": {
        "id": "qBjpdD4aomaw"
      },
      "execution_count": null,
      "outputs": []
    },
    {
      "cell_type": "markdown",
      "source": [
        "**One-Hot Encoding**: Colunas como gender, caec e mtrans foram transformadas usando One-Hot Encoding. Isso é feito para variáveis categóricas nominais, criando novas colunas binárias para evitar que o modelo infira uma ordem que não existe (ex: 'Female' não é \"maior\" ou \"menor\" que 'Male')."
      ],
      "metadata": {
        "id": "eBgyeqOGcc89"
      }
    },
    {
      "cell_type": "markdown",
      "source": [
        "# Classificação"
      ],
      "metadata": {
        "id": "Ra3cg0kUdUbr"
      }
    },
    {
      "cell_type": "code",
      "execution_count": null,
      "metadata": {
        "id": "W4PUfwKxEwfA"
      },
      "outputs": [],
      "source": [
        "# Classificação (Regressão Logística e Random Forest)\n",
        "\n",
        "# A classificação é usada para prever a categoria 'nobeyesdad'.\n",
        "# Usei os dados pré-processados (X_transformed) e o target codificado (y_encoded).\n",
        "\n",
        "# Divisão dos dados em treino e teste (75% treino, 25% teste)\n",
        "X_train, X_test, y_train, y_test = train_test_split(\n",
        "    X_transformed_array, y_encoded, test_size=0.25, random_state=42, stratify=y_encoded\n",
        ")\n",
        "\n",
        "\n",
        "print(\"\\n--- Modelo de Classificação: Regressão Logística ---\")\n",
        "log_reg_model = LogisticRegression(max_iter=1000, random_state=42, solver='liblinear') # 'liblinear' é bom para datasets menores/multi-classe\n",
        "log_reg_model.fit(X_train, y_train)\n",
        "\n",
        "y_log_reg_pred = log_reg_model.predict(X_test)\n",
        "\n",
        "# Avaliação da Regressão Logística\n",
        "print(f\"Acurácia da Regressão Logística: {accuracy_score(y_test, y_log_reg_pred):.2f}\")\n",
        "print(\"\\nRelatório de Classificação:\")\n",
        "print(classification_report(y_test, y_log_reg_pred, target_names=label_encoder.classes_))\n",
        "print(\"\\nMatriz de Confusão:\")\n",
        "sns.heatmap(confusion_matrix(y_test, y_log_reg_pred), annot=True, fmt='d', cmap='Blues',\n",
        "            xticklabels=label_encoder.classes_, yticklabels=label_encoder.classes_)\n",
        "plt.title('Matriz de Confusão - Regressão Logística')\n",
        "plt.xlabel('Previsto')\n",
        "plt.ylabel('Real')\n",
        "plt.show()\n",
        "\n"
      ]
    },
    {
      "cell_type": "markdown",
      "source": [
        "Podemos ver uma dificuldade considerável em classificar Overweight_Level_II, com os menores valores de precisão, recall e F1-score. Isso sugere que o modelo pode estar confundindo indivíduos nesta categoria com outras classes (como Normal_Weight ou Obesity_Type_I), ou que os limites entre \"Overweight_Level_II\" e classes adjacentes são mais ambíguos para um modelo linear como a Regressão Logística."
      ],
      "metadata": {
        "id": "bPKT7mEYedQ-"
      }
    },
    {
      "cell_type": "code",
      "execution_count": null,
      "metadata": {
        "id": "GesPD4w1Ewmr"
      },
      "outputs": [],
      "source": [
        "print(\"\\n--- Modelo de Classificação: Árvore de Decisão ---\")\n",
        "dt_model = DecisionTreeClassifier(random_state=42)\n",
        "dt_model.fit(X_train, y_train)\n",
        "\n",
        "y_dt_pred = dt_model.predict(X_test)\n",
        "\n",
        "# Avaliação da Árvore de Decisão\n",
        "print(f\"Acurácia da Árvore de Decisão: {accuracy_score(y_test, y_dt_pred):.2f}\")\n",
        "print(\"\\nRelatório de Classificação:\")\n",
        "print(classification_report(y_test, y_dt_pred, target_names=label_encoder.classes_))\n",
        "print(\"\\nMatriz de Confusão:\")\n",
        "sns.heatmap(confusion_matrix(y_test, y_dt_pred), annot=True, fmt='d', cmap='Blues',\n",
        "            xticklabels=label_encoder.classes_, yticklabels=label_encoder.classes_)\n",
        "plt.title('Matriz de Confusão - Árvore de Decisão')\n",
        "plt.xlabel('Previsto')\n",
        "plt.ylabel('Real')\n",
        "plt.show()\n",
        "\n",
        "\n"
      ]
    },
    {
      "cell_type": "markdown",
      "source": [
        "Em comparação com a Regressão Logística, a Árvore de Decisão representa uma melhoria substancial. O modelo demonstrou ser eficaz na classificação dos níveis de obesidade, entregando desempenho robusto na maioria das categorias."
      ],
      "metadata": {
        "id": "4BfZefCLgCJw"
      }
    },
    {
      "cell_type": "code",
      "execution_count": null,
      "metadata": {
        "id": "B4ohKUSuMSvF"
      },
      "outputs": [],
      "source": [
        "print(\"\\n--- Modelo de Classificação: Random Forest ---\")\n",
        "# Random Forest é um ensemble de árvores de decisão, geralmente oferece melhor performance.\n",
        "# 'n_estimators' é o número de árvores na floresta. 'class_weight='balanced'' ajuda com classes desbalanceadas.\n",
        "rf_model = RandomForestClassifier(n_estimators=100, random_state=42, class_weight='balanced')\n",
        "rf_model.fit(X_train, y_train)\n",
        "\n",
        "y_rf_pred = rf_model.predict(X_test)\n",
        "\n",
        "# Avaliação do Random Forest\n",
        "print(f\"Acurácia do Random Forest: {accuracy_score(y_test, y_rf_pred):.2f}\")\n",
        "print(\"\\nRelatório de Classificação:\")\n",
        "print(classification_report(y_test, y_rf_pred, target_names=label_encoder.classes_))\n",
        "print(\"\\nMatriz de Confusão:\")\n",
        "sns.heatmap(confusion_matrix(y_test, y_rf_pred), annot=True, fmt='d', cmap='Blues',\n",
        "            xticklabels=label_encoder.classes_, yticklabels=label_encoder.classes_)\n",
        "plt.title('Matriz de Confusão - Random Forest')\n",
        "plt.xlabel('Previsto')\n",
        "plt.ylabel('Real')\n",
        "plt.show()"
      ]
    },
    {
      "cell_type": "markdown",
      "source": [
        "O modelo Random Forest demonstrou um desempenho excepcional na classificação dos níveis de obesidade, com uma acurácia geral de 98%. O modelo alcançou altíssimos níveis de precisão, recall e F1-score para todas as classes, incluindo aquelas (como Normal_Weight, Overweight_Level_I, e Overweight_Level_II) onde a Regressão Logística havia apresentado dificuldades."
      ],
      "metadata": {
        "id": "H1W9lhvpfZeb"
      }
    },
    {
      "cell_type": "markdown",
      "metadata": {
        "id": "7wQ9wP_zGJkk"
      },
      "source": [
        "# Regressão (Previsão de BMI)\n"
      ]
    },
    {
      "cell_type": "code",
      "execution_count": null,
      "metadata": {
        "id": "-fHBl47Ve0NM"
      },
      "outputs": [],
      "source": [
        "# Regressão (Previsão de BMI)\n",
        "# Para regressão, vamos prever o 'bmi' (Índice de Massa Corporal), que é uma variável numérica.\n",
        "# Excluí 'height' e 'weight' das features (X) para evitar multicolinearidade com o BMI.\n",
        "X_reg = df.drop(columns=['nobeyesdad', 'bmi', 'height', 'weight'], axis=1) # Usando 'nobeyesdad'\n",
        "\n",
        "# O pré-processamento aqui precisa ser refeito para as colunas específicas da regressão.\n",
        "# Identificando colunas para o pré-processamento da regressão\n",
        "categorical_cols_reg = ['gender', 'caec', 'mtrans']\n",
        "numerical_cols_reg = ['age', 'family_history_with_overweight', 'favc',\n",
        "                      'fcvc', 'ncp', 'ch2o', 'calc', 'scc', 'smoke', 'faf', 'tue']\n",
        "\n",
        "preprocessor_reg = ColumnTransformer(\n",
        "    transformers=[\n",
        "        ('num', StandardScaler(), numerical_cols_reg),\n",
        "        ('cat', OneHotEncoder(handle_unknown='ignore'), categorical_cols_reg)\n",
        "    ],\n",
        "    remainder='passthrough'\n",
        ")\n",
        "\n",
        "# Aplicando o pré-processamento para regressão\n",
        "X_reg_transformed = preprocessor_reg.fit_transform(X_reg)\n",
        "y_reg = df['bmi'] # O alvo da regressão é o BMI\n",
        "\n",
        "# Divisão dos dados em treino e teste para regressão\n",
        "X_reg_train, X_reg_test, y_reg_train, y_reg_test = train_test_split(\n",
        "    X_reg_transformed, y_reg, test_size=0.25, random_state=42\n",
        ")\n",
        "\n",
        "print(\"\\n--- Modelo de Regressão: Regressão Linear para prever IMC (BMI) ---\")\n",
        "\n",
        "linear_reg_model = LinearRegression()\n",
        "linear_reg_model.fit(X_reg_train, y_reg_train)\n",
        "\n",
        "y_reg_pred = linear_reg_model.predict(X_reg_test)\n",
        "\n",
        "# Avaliação do modelo de regressão\n",
        "mae = mean_absolute_error(y_reg_test, y_reg_pred)\n",
        "r2 = r2_score(y_reg_test, y_reg_pred)\n",
        "\n",
        "print(f\"Erro Absoluto Médio (MAE) da Regressão Linear: {mae:.2f}\")\n",
        "print(f\"Coeficiente de Determinação (R²) da Regressão Linear: {r2:.2f}\")\n",
        "\n",
        "# Visualização das previsões vs. valores reais\n",
        "plt.figure(figsize=(10, 6))\n",
        "sns.scatterplot(x=y_reg_test, y=y_reg_pred, alpha=0.6)\n",
        "# Adiciona uma linha de identidade (onde y_real == y_previsto)\n",
        "plt.plot([y_reg_test.min(), y_reg_test.max()], [y_reg_test.min(), y_reg_test.max()], 'r--', lw=2)\n",
        "plt.title('Previsões de IMC vs. Valores Reais (Regressão Linear)')\n",
        "plt.xlabel('IMC Real')\n",
        "plt.ylabel('IMC Previsto')\n",
        "plt.show()"
      ]
    },
    {
      "cell_type": "markdown",
      "metadata": {
        "id": "Eyb-mWfqHDDU"
      },
      "source": [
        "O gráfico e as métricas indicam que o modelo de Regressão Linear é capaz de prever o IMC com uma precisão razoável, capturando cerca de metade da variância nos dados (R² de 0.51). Contudo, o MAE de 4.59 e a dispersão dos pontos no gráfico sugerem que há espaço para melhoria nas previsões, especialmente para valores de IMC que se desviam da média. Isso pode ser alcançado explorando modelos de regressão mais complexos, adicionando mais features relevantes, ou realizando engenharia de features."
      ]
    },
    {
      "cell_type": "markdown",
      "metadata": {
        "id": "rBl8S0hDGap4"
      },
      "source": [
        "# Outras Transformações e Etapas de Pré-Processamento\n",
        "\n",
        "Outras etapas de pré-processamento incluem a seleção de características, redução de dimensionalidade (como PCA) ou criação de novas características (feature engineering). O que você faria a mais?\n",
        "\n"
      ]
    },
    {
      "cell_type": "code",
      "source": [
        "# Validação Cruzada (Cross-Validation)\n",
        "\n",
        "if df.empty:\n",
        "    print(\"Dataset não carregado, pulando validação cruzada.\")\n",
        "else:\n",
        "    # A validação cruzada fornece uma avaliação mais robusta da performance do modelo,\n",
        "    # mitigando o viés de uma única divisão de treino/teste.\n",
        "\n",
        "    print(\"--- Avaliação de Modelo com Validação Cruzada (K-Fold) ---\")\n",
        "\n",
        "    # Número de folds\n",
        "    n_splits = 5\n",
        "    kf = KFold(n_splits=n_splits, shuffle=True, random_state=42)\n",
        "\n",
        "    # Avaliando a acurácia do Random Forest para Classificação com validação cruzada\n",
        "    # Usaremos os dados transformados para classificação (X_transformed, y_encoded).\n",
        "    rf_model_cv = RandomForestClassifier(n_estimators=100, random_state=42, class_weight='balanced')\n",
        "    cv_scores_rf = cross_val_score(rf_model_cv, X_transformed_array, y_encoded, cv=kf, scoring='accuracy')\n",
        "\n",
        "    print(f\"Acurácias do Random Forest (Classificação) por fold: {cv_scores_rf.round(2)}\")\n",
        "    print(f\"Acurácia Média do Random Forest (Classificação) com Validação Cruzada ({n_splits}-fold): {np.mean(cv_scores_rf):.2f} (+/- {np.std(cv_scores_rf):.2f})\")\n",
        "\n",
        "    # Avaliando o R² da Regressão Linear para previsão de BMI com validação cruzada\n",
        "    linear_reg_model_cv = LinearRegression()\n",
        "    cv_scores_reg_r2 = cross_val_score(linear_reg_model_cv, X_reg_transformed, y_reg, cv=kf, scoring='r2')\n",
        "\n",
        "    print(f\"\\nR² por fold da Regressão Linear (Previsão de BMI): {cv_scores_reg_r2.round(2)}\")\n",
        "    print(f\"R² médio da Regressão Linear (Previsão de BMI) com Validação Cruzada: {np.mean(cv_scores_reg_r2):.2f} (+/- {np.std(cv_scores_reg_r2):.2f})\")\n"
      ],
      "metadata": {
        "id": "qZM6K2Ukh_9z"
      },
      "execution_count": null,
      "outputs": []
    },
    {
      "cell_type": "markdown",
      "source": [
        "A validação cruzada assegura que as métricas obtidas em uma única divisão de treino e teste refletem de forma consistente o desempenho geral do modelo."
      ],
      "metadata": {
        "id": "lcBpjXcOx1gl"
      }
    },
    {
      "cell_type": "markdown",
      "metadata": {
        "id": "OY_GDjf1G-PM"
      },
      "source": [
        "# Conclusão\n",
        "\n",
        "A análise e pré-processamento do dataset de Risco de Obesidade demonstram a importância de entender a estrutura dos dados antes da modelagem. O dataset foi limpo de duplicatas e as variáveis categóricas foram tratadas e convertidas para formatos numéricos, garantindo a qualidade e adequação dos dados para a análise e modelagem. As características numéricas estão bem definidas, e a análise exploratória revelou insights importantes sobre a distribuição de variáveis como a idade e a relação entre peso e nível de obesidade. A criação da variável IMC (BMI) foi fundamental, e suas altas correlações com weight e height foram observadas. As etapas de normalização e padronização dos dados numéricos são cruciais para preparar os dados para diversos algoritmos de aprendizado de máquina, assegurando que o modelo possa aprender eficientemente com as relações presentes nos dados.\n",
        "\n",
        "As três hipóteses levantadas podem ser reavaliadas com base nos seus dados e análises:\n",
        "\n",
        "Os diferentes Níveis de Obesidade podem ser distinguidos com base em características como Peso e IMC? Sim, dado as análises em gráficos de barras, observamos que o peso médio aumenta consistentemente com o nível de obesidade, e os boxplots do IMC por Nível de Obesidade mostram distribuições claras e distintas para as categorias, facilitando a separação.\n",
        "\n",
        "Existe uma correlação entre as principais medições corporais (altura, peso, IMC)? Sim, há uma forte correlação positiva entre weight e BMI (0.93), bem como entre height e weight (0.46). Isso indica que, à medida que o peso aumenta, o IMC também tende a aumentar significativamente, e há uma correlação moderada entre altura e peso.\n",
        "\n",
        "As pessoas com Consumo frequente de alimentos de alto teor calórico têm uma distribuição de idade diferente? Sim, os boxplots sugerem que, embora com outliers, a distribuição de idade para quem consome frequentemente alimentos de alto teor calórico (\"yes\") é diferente da distribuição de idade para quem não consome (\"no\"), havendo uma tendência de os consumidores serem mais jovens na mediana."
      ]
    }
  ],
  "metadata": {
    "colab": {
      "provenance": [],
      "include_colab_link": true
    },
    "kernelspec": {
      "display_name": "Python 3",
      "name": "python3"
    },
    "language_info": {
      "name": "python"
    }
  },
  "nbformat": 4,
  "nbformat_minor": 0
}